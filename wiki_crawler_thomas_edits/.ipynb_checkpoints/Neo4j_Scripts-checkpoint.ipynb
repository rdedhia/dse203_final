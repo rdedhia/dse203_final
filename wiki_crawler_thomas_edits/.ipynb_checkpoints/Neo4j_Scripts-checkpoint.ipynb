{
 "cells": [
  {
   "cell_type": "markdown",
   "metadata": {},
   "source": [
    " # Create Constaints"
   ]
  },
  {
   "cell_type": "raw",
   "metadata": {},
   "source": [
    "CREATE CONSTRAINT ON (person:Person) ASSERT person.id IS UNIQUE\n",
    "CREATE CONSTRAINT ON (company:Company) ASSERT company.id IS UNIQUE\n",
    "CREATE CONSTRAINT ON (software:Software) ASSERT software.id IS UNIQUE\n",
    "CREATE CONSTRAINT ON (industry:Industry) ASSERT industry.id IS UNIQUE\n",
    "CREATE CONSTRAINT ON (uni:University) ASSERT uni.id IS UNIQUE\n",
    "CREATE CONSTRAINT ON (prd:Product) ASSERT prd.id IS UNIQUE"
   ]
  },
  {
   "cell_type": "markdown",
   "metadata": {},
   "source": [
    "# Load Tables"
   ]
  },
  {
   "cell_type": "raw",
   "metadata": {},
   "source": [
    "LOAD CSV WITH HEADERS FROM \"file:///DF_Persons.csv\" AS csvLine\n",
    "CREATE (c:Person {id: toInteger(csvLine.ID), name: csvLine.name})\n",
    "\n",
    "LOAD CSV WITH HEADERS FROM \"file:///DF_Companies.csv\" AS csvLine\n",
    "CREATE (c:Company {id: toInteger(csvLine.ID), name: csvLine.name})\n",
    "\n",
    "LOAD CSV WITH HEADERS FROM \"file:///DF_Software.csv\" AS csvLine\n",
    "CREATE (c:Software {id: toInteger(csvLine.ID), name: csvLine.name})\n",
    "\n",
    "LOAD CSV WITH HEADERS FROM \"file:///DF_Industry.csv\" AS csvLine\n",
    "CREATE (c:Industry {id: toInteger(csvLine.ID), name: csvLine.name})\n",
    "\n",
    "LOAD CSV WITH HEADERS FROM \"file:///DF_University.csv\" AS csvLine\n",
    "CREATE (c:University {name: csvLine.name, id: toInteger(csvLine.ID)})\n",
    "\n",
    "LOAD CSV WITH HEADERS FROM \"file:///DF_Products.csv\" AS csvLine\n",
    "CREATE (c:Product {name: csvLine.name, id: toInteger(csvLine.ID)})"
   ]
  },
  {
   "cell_type": "markdown",
   "metadata": {},
   "source": [
    "# Build Relationships"
   ]
  },
  {
   "cell_type": "raw",
   "metadata": {},
   "source": [
    "LOAD CSV WITH HEADERS FROM \"file:///founded_by.csv\" AS csvLine\n",
    "MATCH (company:Company {id: toInteger(csvLine.CompanyID)}),(person:Person {id: toInteger(csvLine.PersonsID)})\n",
    "CREATE (company)-[:FOUNDED_BY {founded_date: csvLine.founded_date}]->(person)\n",
    "\n",
    "\n",
    "LOAD CSV WITH HEADERS FROM \"file:///alma_mater_of.csv\" AS csvLine\n",
    "MATCH (person:Person {id: toInteger(csvLine.PersonsID)}),(uni:University {id: toInteger(csvLine.UniversityID)})\n",
    "CREATE (person)-[:ALMA_MATER_OF {degree: csvLine.degree}]->(uni)\n",
    "\n",
    "LOAD CSV WITH HEADERS FROM \"file:///designed_by.csv\" AS csvLine\n",
    "MATCH (software:Software {id: toInteger(csvLine.LanguageID)}),(person:Person {id: toInteger(csvLine.PersonsID)})\n",
    "CREATE (software)-[:DESIGNED_BY]->(person)\n",
    "\n",
    "LOAD CSV WITH HEADERS FROM \"file:///written_in.csv\" AS csvLine\n",
    "MATCH (cmp:Company {id: toInteger(csvLine.CompanyID)}),(sft:Software {id: toInteger(csvLine.LanguageID)})\n",
    "CREATE (cmp)-[:WRITTEN_IN]->(sft)\n",
    "\n",
    "\n",
    "LOAD CSV WITH HEADERS FROM \"file:///product_of.csv\" AS csvLine\n",
    "MATCH (prd:Product {id: toInteger(csvLine.ProductID)}),(cmp:Company {id: toInteger(csvLine.CompanyID)})\n",
    "CREATE (prd)-[:PRODUCT_OF]->(cmp)\n",
    "\n",
    "LOAD CSV WITH HEADERS FROM \"file:///industry_of.csv\" AS csvLine\n",
    "MATCH (cmp:Company {id: toInteger(csvLine.CompanyID)}),(ind:Industry {id: toInteger(csvLine.IndustryID)})\n",
    "CREATE (cmp)-[:INDUSTRY_OF]->(ind)\n"
   ]
  },
  {
   "cell_type": "markdown",
   "metadata": {},
   "source": [
    "# Add Competes With Relationships"
   ]
  },
  {
   "cell_type": "raw",
   "metadata": {},
   "source": [
    "MATCH (a:Company),(b:Company)\n",
    "WHERE a.name='Twitter' and b.name='Reddit'\n",
    "create (a)-[:COMPETES_WITH]->(b)\n",
    "\n",
    "MATCH (a:Company),(b:Company)\n",
    "WHERE a.name='Twitter' and b.name='WeChat'\n",
    "create (a)-[:COMPETES_WITH]->(b)\n",
    "\n",
    "MATCH (a:Company),(b:Company)\n",
    "WHERE a.name='Twitter' and b.name='Instagram'\n",
    "create (a)-[:COMPETES_WITH]->(b)\n",
    "\n",
    "MATCH (a:Company),(b:Company)\n",
    "WHERE a.name='Twitter' and b.name='WhatsApp'\n",
    "create (a)-[:COMPETES_WITH]->(b)\n",
    "\n",
    "\n",
    "MATCH (a:Company),(b:Company)\n",
    "WHERE a.name='Twitter' and b.name='Snap Inc.'\n",
    "create (a)-[:COMPETES_WITH]->(b)\n",
    "\n",
    "MATCH (a:Company),(b:Company)\n",
    "WHERE a.name='Twitter' and b.name='Snapchat'\n",
    "create (a)-[:COMPETES_WITH]->(b)\n",
    "\n",
    "\n",
    "MATCH (a:Company),(b:Company)\n",
    "WHERE a.name='Twitter' and b.name='Facebook'\n",
    "create (a)-[:COMPETES_WITH]->(b)"
   ]
  },
  {
   "cell_type": "markdown",
   "metadata": {},
   "source": [
    "# Add Aquired by relationships"
   ]
  },
  {
   "cell_type": "raw",
   "metadata": {},
   "source": [
    "MATCH (a:Company),(b:Company)\n",
    "WHERE a.name='Twitter' and b.name='MoPub'\n",
    "create (b)-[:ACQUIRED_BY]->(a)\n",
    "\n",
    "MATCH (a:Company),(b:Company)\n",
    "WHERE a.name='Twitter' and b.name='Vine (service)'\n",
    "create (b)-[:ACQUIRED_BY]->(a)\n",
    "\n",
    "\n",
    "MATCH (a:Company),(b:Company)\n",
    "WHERE a.name='Twitter' and b.name='Periscope (app)'\n",
    "create (b)-[:ACQUIRED_BY]->(a)\n"
   ]
  },
  {
   "cell_type": "code",
   "execution_count": null,
   "metadata": {},
   "outputs": [],
   "source": []
  }
 ],
 "metadata": {
  "kernelspec": {
   "display_name": "Python 3",
   "language": "python",
   "name": "python3"
  },
  "language_info": {
   "codemirror_mode": {
    "name": "ipython",
    "version": 3
   },
   "file_extension": ".py",
   "mimetype": "text/x-python",
   "name": "python",
   "nbconvert_exporter": "python",
   "pygments_lexer": "ipython3",
   "version": "3.6.9"
  }
 },
 "nbformat": 4,
 "nbformat_minor": 4
}
