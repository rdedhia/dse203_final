{
 "cells": [
  {
   "cell_type": "markdown",
   "metadata": {},
   "source": [
    " # Create Constaints"
   ]
  },
  {
   "cell_type": "raw",
   "metadata": {},
   "source": [
    "CREATE CONSTRAINT ON (person:Person) ASSERT person.id IS UNIQUE;\n",
    "CREATE CONSTRAINT ON (company:Company) ASSERT company.id IS UNIQUE;\n",
    "CREATE CONSTRAINT ON (software:Software) ASSERT software.id IS UNIQUE;\n",
    "CREATE CONSTRAINT ON (industry:Industry) ASSERT industry.id IS UNIQUE;\n",
    "CREATE CONSTRAINT ON (uni:University) ASSERT uni.id IS UNIQUE;\n",
    "CREATE CONSTRAINT ON (prd:Product) ASSERT prd.id IS UNIQUE;"
   ]
  },
  {
   "cell_type": "markdown",
   "metadata": {},
   "source": [
    "# Load Tables"
   ]
  },
  {
   "cell_type": "raw",
   "metadata": {},
   "source": [
    "LOAD CSV WITH HEADERS FROM \"file:///DF_Persons.csv\" AS csvLine\n",
    "CREATE (c:Person {id: toInteger(csvLine.ID), name: csvLine.name, residence:csvLine.residence, occupation:csvLine.occupation, born:csvLine.born, political_party:csvLine.political_party});\n",
    "\n",
    "LOAD CSV WITH HEADERS FROM \"file:///DF_Companies.csv\" AS csvLine\n",
    "CREATE (c:Company {id: toInteger(csvLine.ID), name: csvLine.name, type: csvLine.type, headquarters: csvLine.headquarters, revenue: csvLine.revenue, website: csvLine.website, banned_in:csvLine.banned_in, number_of_employees:csvLine.number_of_employees, awards:csvLine.won});\n",
    "\n",
    "LOAD CSV WITH HEADERS FROM \"file:///DF_Software.csv\" AS csvLine\n",
    "CREATE (c:Software {id: toInteger(csvLine.ID), name: csvLine.name, website:csvLine.website, stable_release:csvLine.stable_release, paradigm: csvLine.paradigm, developer:csvLine.developer, fist_appeared:csvLine.first_appeared, typing_discipline:csvLine.typing_discipline});\n",
    "\n",
    "LOAD CSV WITH HEADERS FROM \"file:///DF_Industry.csv\" AS csvLine\n",
    "CREATE (c:Industry {id: toInteger(csvLine.ID), name: csvLine.name});\n",
    "\n",
    "LOAD CSV WITH HEADERS FROM \"file:///DF_University.csv\" AS csvLine\n",
    "CREATE (c:University {name: csvLine.name, id: toInteger(csvLine.ID)});\n",
    "\n",
    "LOAD CSV WITH HEADERS FROM \"file:///DF_Products.csv\" AS csvLine\n",
    "CREATE (c:Product {name: csvLine.name, id: toInteger(csvLine.ID)});\n",
    "\n",
    "LOAD CSV WITH HEADERS FROM \"file:///NAICS_fixed.csv\" AS csvLine\n",
    "CREATE (c:NAICS_Codes {code: csvLine.NAICS_Code, title: csvLine.NAICS_Title});"
   ]
  },
  {
   "cell_type": "markdown",
   "metadata": {},
   "source": [
    "# Build Relationships"
   ]
  },
  {
   "cell_type": "raw",
   "metadata": {},
   "source": [
    "LOAD CSV WITH HEADERS FROM \"file:///founded_by.csv\" AS csvLine\n",
    "MATCH (company:Company {id: toInteger(csvLine.CompanyID)}),(person:Person {id: toInteger(csvLine.PersonsID)})\n",
    "CREATE (company)-[:FOUNDED_BY {founded_date: csvLine.founded_date}]->(person);\n",
    "\n",
    "LOAD CSV WITH HEADERS FROM \"file:///alma_mater_of.csv\" AS csvLine\n",
    "MATCH (person:Person {id: toInteger(csvLine.PersonsID)}),(uni:University {id: toInteger(csvLine.UniversityID)})\n",
    "CREATE (person)-[:ALMA_MATER_OF {degree: csvLine.degree}]->(uni);\n",
    "\n",
    "LOAD CSV WITH HEADERS FROM \"file:///designed_by.csv\" AS csvLine\n",
    "MATCH (software:Software {id: toInteger(csvLine.LanguageID)}),(person:Person {id: toInteger(csvLine.PersonsID)})\n",
    "CREATE (software)-[:DESIGNED_BY]->(person);\n",
    "\n",
    "LOAD CSV WITH HEADERS FROM \"file:///written_in.csv\" AS csvLine\n",
    "MATCH (cmp:Company {id: toInteger(csvLine.CompanyID)}),(sft:Software {id: toInteger(csvLine.LanguageID)})\n",
    "CREATE (cmp)-[:WRITTEN_IN]->(sft);\n",
    "\n",
    "LOAD CSV WITH HEADERS FROM \"file:///product_of.csv\" AS csvLine\n",
    "MATCH (prd:Product {id: toInteger(csvLine.ProductID)}),(cmp:Company {id: toInteger(csvLine.CompanyID)})\n",
    "CREATE (prd)-[:PRODUCT_OF]->(cmp);\n",
    "\n",
    "LOAD CSV WITH HEADERS FROM \"file:///industry_of.csv\" AS csvLine\n",
    "MATCH (cmp:Company {id: toInteger(csvLine.CompanyID)}),(ind:Industry {id: toInteger(csvLine.IndustryID)})\n",
    "CREATE (cmp)-[:INDUSTRY_OF]->(ind);\n",
    "\n",
    "LOAD CSV WITH HEADERS FROM \"file:///key_people_of.csv\" AS csvLine\n",
    "MATCH (cmp:Company {id: toInteger(csvLine.CompanyID)}),(prsn:Person {id: toInteger(csvLine.PersonsID)})\n",
    "CREATE (prsn)-[:KEY_PERSON_OF {role:csvLine.role}]->(cmp);\n"
   ]
  },
  {
   "cell_type": "markdown",
   "metadata": {},
   "source": [
    "# Add Competes With Relationships"
   ]
  },
  {
   "cell_type": "raw",
   "metadata": {},
   "source": [
    "MATCH (a:Company),(b:Company)\n",
    "WHERE a.name='Twitter' and b.name='Reddit'\n",
    "create (a)-[:COMPETES_WITH]->(b);\n",
    "\n",
    "MATCH (a:Company),(b:Company)\n",
    "WHERE a.name='Twitter' and b.name='WeChat'\n",
    "create (a)-[:COMPETES_WITH]->(b);\n",
    "\n",
    "MATCH (a:Company),(b:Company)\n",
    "WHERE a.name='Twitter' and b.name='Instagram'\n",
    "create (a)-[:COMPETES_WITH]->(b);\n",
    "\n",
    "MATCH (a:Company),(b:Company)\n",
    "WHERE a.name='Twitter' and b.name='WhatsApp'\n",
    "create (a)-[:COMPETES_WITH]->(b);\n",
    "\n",
    "MATCH (a:Company),(b:Company)\n",
    "WHERE a.name='Twitter' and b.name='Pinterest'\n",
    "create (a)-[:COMPETES_WITH]->(b);\n",
    "\n",
    "MATCH (a:Company),(b:Company)\n",
    "WHERE a.name='Twitter' and b.name='Snap Inc.'\n",
    "create (a)-[:COMPETES_WITH]->(b);\n",
    "\n",
    "MATCH (a:Company),(b:Company)\n",
    "WHERE a.name='Twitter' and b.name='Snapchat'\n",
    "create (a)-[:COMPETES_WITH]->(b);\n",
    "\n",
    "MATCH (a:Company),(b:Company)\n",
    "WHERE a.name='Twitter' and b.name='Facebook'\n",
    "create (a)-[:COMPETES_WITH]->(b);\n"
   ]
  },
  {
   "cell_type": "markdown",
   "metadata": {},
   "source": [
    "# Add Aquired by relationships"
   ]
  },
  {
   "cell_type": "raw",
   "metadata": {},
   "source": [
    "MATCH (a:Company),(b:Company)\n",
    "WHERE a.name='Twitter' and b.name='MoPub'\n",
    "create (a)-[:SUBSIDIARY_OF]->(b);\n",
    "\n",
    "MATCH (a:Company),(b:Company)\n",
    "WHERE a.name='Twitter' and b.name='Vine'\n",
    "create (a)-[:SUBSIDIARY_OF]->(b);\n",
    "\n",
    "\n",
    "MATCH (a:Company),(b:Company)\n",
    "WHERE a.name='Twitter' and b.name='Summify'\n",
    "create (a)-[:SUBSIDIARY_OF]->(b);\n",
    "\n",
    "MATCH (a:Company),(b:Company)\n",
    "WHERE a.name='Twitter' and b.name='Vine'\n",
    "create (a)-[:SUBSIDIARY_OF]->(b);\n",
    "\n",
    "MATCH (a:Company),(b:Company)\n",
    "WHERE a.name='Twitter' and b.name='Periscope'\n",
    "create (a)-[:SUBSIDIARY_OF]->(b);\n",
    "\n",
    "MATCH (a:Company),(b:Company)\n",
    "WHERE a.name='Twitter' and b.name='Crashlytics'\n",
    "create (a)-[:SUBSIDIARY_OF]->(b);\n",
    "\n",
    "MATCH (a:Company),(b:Company)\n",
    "WHERE a.name='Twitter' and b.name='Trendrr'\n",
    "create (a)-[:SUBSIDIARY_OF]->(b);\n",
    "\n",
    "MATCH (a:Company),(b:Company)\n",
    "WHERE a.name='Twitter' and b.name='Bluefin Labs'\n",
    "create (a)-[:SUBSIDIARY_OF]->(b);\n",
    "\n",
    "MATCH (a:Company),(b:Company)\n",
    "WHERE a.name='Twitter' and b.name='SecondSync'\n",
    "create (a)-[:SUBSIDIARY_OF]->(b);\n",
    "\n",
    "MATCH (a:Company),(b:Company)\n",
    "WHERE a.name='Facebook' and b.name='Onavo'\n",
    "create (a)-[:SUBSIDIARY_OF]->(b);\n",
    "\n",
    "MATCH (a:Company),(b:Company)\n",
    "WHERE a.name='Facebook' and b.name='Instagram'\n",
    "create (a)-[:SUBSIDIARY_OF]->(b);\n",
    "\n",
    "MATCH (a:Company),(b:Company)\n",
    "WHERE a.name='Facebook' and b.name='WhatsApp'\n",
    "create (a)-[:SUBSIDIARY_OF]->(b);\n",
    "\n",
    "MATCH (a:Company),(b:Company)\n",
    "WHERE a.name='Facebook' and b.name='Calibra'\n",
    "create (a)-[:SUBSIDIARY_OF]->(b);\n",
    "\n",
    "MATCH (a:Company),(b:Company)\n",
    "WHERE a.name='Facebook' and b.name='Oculus Studios'\n",
    "create (a)-[:SUBSIDIARY_OF]->(b);\n",
    "\n",
    "MATCH (a:Company),(b:Company)\n",
    "WHERE a.name='Facebook' and b.name='Libra'\n",
    "create (a)-[:SUBSIDIARY_OF]->(b);\n",
    "\n",
    "MATCH (a:Company),(b:Company)\n",
    "WHERE a.name='Oculus Studios' and b.name='Oculus VR'\n",
    "create (a)-[:SUBSIDIARY_OF]->(b);\n",
    "\n",
    "MATCH (a:Company),(b:Company)\n",
    "WHERE a.name='Tencent' and b.name='WeChat'\n",
    "create (a)-[:SUBSIDIARY_OF]->(b);"
   ]
  },
  {
   "cell_type": "raw",
   "metadata": {},
   "source": [
    "MATCH (a:Company),(b:NAICS_Codes) WHERE a.name='Facebook' and  b.code='518210' create  (a)-[:NAICS_INDUSTRY]->(b);\n",
    "MATCH (a:Company),(b:NAICS_Codes) WHERE a.name='Facebook' and  b.code='519130' create  (a)-[:NAICS_INDUSTRY]->(b);\n",
    "MATCH (a:Company),(b:NAICS_Codes) WHERE a.name='Periscope' and  b.code='333314' create  (a)-[:NAICS_INDUSTRY]->(b);\n",
    "MATCH (a:Company),(b:NAICS_Codes) WHERE a.name='Pinterest' and  b.code='518210' create  (a)-[:NAICS_INDUSTRY]->(b);\n",
    "MATCH (a:Company),(b:NAICS_Codes) WHERE a.name='Snapchat' and  b.code='518210' create  (a)-[:NAICS_INDUSTRY]->(b);\n",
    "MATCH (a:Company),(b:NAICS_Codes) WHERE a.name='Snapchat' and  b.code='541511' create  (a)-[:NAICS_INDUSTRY]->(b);\n",
    "MATCH (a:Company),(b:NAICS_Codes) WHERE a.name='Snapchat' and  b.code='511210' create  (a)-[:NAICS_INDUSTRY]->(b);\n",
    "MATCH (a:Company),(b:NAICS_Codes) WHERE a.name='Reddit' and  b.code='518210' create  (a)-[:NAICS_INDUSTRY]->(b);\n",
    "MATCH (a:Company),(b:NAICS_Codes) WHERE a.name='Instagram' and  b.code='518210' create  (a)-[:NAICS_INDUSTRY]->(b);\n",
    "MATCH (a:Company),(b:NAICS_Codes) WHERE a.name='Twitter' and  b.code='518210' create  (a)-[:NAICS_INDUSTRY]->(b);\n",
    "MATCH (a:Company),(b:NAICS_Codes) WHERE a.name='Tencent' and  b.code='511210' create  (a)-[:NAICS_INDUSTRY]->(b);\n",
    "MATCH (a:Company),(b:NAICS_Codes) WHERE a.name='Snap Inc.' and  b.code='518210' create  (a)-[:NAICS_INDUSTRY]->(b);\n",
    "MATCH (a:Company),(b:NAICS_Codes) WHERE a.name='Snap Inc.' and  b.code='541511' create  (a)-[:NAICS_INDUSTRY]->(b);\n",
    "MATCH (a:Company),(b:NAICS_Codes) WHERE a.name='Snap Inc.' and  b.code='511210' create  (a)-[:NAICS_INDUSTRY]->(b);\n",
    "MATCH (a:Company),(b:NAICS_Codes) WHERE a.name='Calibra' and  b.code='541611' create  (a)-[:NAICS_INDUSTRY]->(b);\n",
    "MATCH (a:Company),(b:NAICS_Codes) WHERE a.name='MoPub' and  b.code='518210' create  (a)-[:NAICS_INDUSTRY]->(b);\n",
    "MATCH (a:Company),(b:NAICS_Codes) WHERE a.name='Crashlytics' and  b.code='511210' create  (a)-[:NAICS_INDUSTRY]->(b);"
   ]
  },
  {
   "cell_type": "markdown",
   "metadata": {},
   "source": [
    "# Drop Constraints and ID's"
   ]
  },
  {
   "cell_type": "raw",
   "metadata": {},
   "source": [
    "DROP CONSTRAINT ON (person:Person) ASSERT person.id IS UNIQUE;\n",
    "DROP CONSTRAINT ON (company:Company) ASSERT company.id IS UNIQUE;\n",
    "DROP CONSTRAINT ON (software:Software) ASSERT software.id IS UNIQUE;\n",
    "DROP CONSTRAINT ON (industry:Industry) ASSERT industry.id IS UNIQUE;\n",
    "DROP CONSTRAINT ON (uni:University) ASSERT uni.id IS UNIQUE;\n",
    "DROP CONSTRAINT ON (prd:Product) ASSERT prd.id IS UNIQUE;\n",
    "\n",
    "\n",
    "MATCH (n)\n",
    "WHERE n:Person OR n:Company OR n:Software OR n:Industry OR n:University OR n:Product\n",
    "REMOVE n.id;"
   ]
  },
  {
   "cell_type": "code",
   "execution_count": null,
   "metadata": {},
   "outputs": [],
   "source": []
  }
 ],
 "metadata": {
  "kernelspec": {
   "display_name": "Python 3",
   "language": "python",
   "name": "python3"
  },
  "language_info": {
   "codemirror_mode": {
    "name": "ipython",
    "version": 3
   },
   "file_extension": ".py",
   "mimetype": "text/x-python",
   "name": "python",
   "nbconvert_exporter": "python",
   "pygments_lexer": "ipython3",
   "version": "3.7.4"
  }
 },
 "nbformat": 4,
 "nbformat_minor": 4
}
