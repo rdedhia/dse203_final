{
 "cells": [
  {
   "cell_type": "code",
   "execution_count": 33,
   "metadata": {},
   "outputs": [],
   "source": [
    "import pandas as pd\n",
    "import json"
   ]
  },
  {
   "cell_type": "code",
   "execution_count": 34,
   "metadata": {},
   "outputs": [],
   "source": [
    "df = pd.read_json('entities.json', lines=True)"
   ]
  },
  {
   "cell_type": "code",
   "execution_count": 35,
   "metadata": {
    "scrolled": false
   },
   "outputs": [
    {
     "name": "stdout",
     "output_type": "stream",
     "text": [
      "['name' 'url' 'entity_type' 'type' 'traded_as' 'industry' 'founded'\n",
      " 'founded_by' 'headquarters' 'area_served' 'key_people' 'products'\n",
      " 'revenue' 'owner' 'subsidiaries' 'website' 'founder(s)'\n",
      " 'original_author(s)' 'developer(s)' 'stable_release' 'android' 'ios'\n",
      " 'written_in' 'operating_system' 'available_in' 'license' 'alexa_rank'\n",
      " 'windows_10' 'android_(alpha)' 'android_(beta)' 'size' 'type_of_business'\n",
      " 'type_of_site' 'coordinates' 'employees' 'users' 'residence' 'alma_mater'\n",
      " 'occupation' 'white_paper' 'code_repository' 'source_model' 'brands'\n",
      " 'parent' 'born' 'education' 'salary' 'net_worth' 'political_party'\n",
      " 'board_member_of' 'spouse(s)' 'children'\n",
      " '.mw-parser-output_.nobold{font-weight:normal}\\u20024' '10' '100'\n",
      " '\\u200b1⁄4' '\\u200b1⁄10' '\\u200b1⁄20' '\\u200b1⁄100' '\\u200b1⁄1000'\n",
      " 'symbol' 'cent_or_penny' 'mill' 'nickname' 'freq._used' 'rarely_used'\n",
      " 'source' 'replaced' 'user(s)' 'central_bank' 'printer' 'mint' 'method'\n",
      " 'pegged_by' 'country' 'province' 'region' 'named_for' '•_mayor'\n",
      " '•_vancouver_city_council' '•_mps_(fed.)' '•_mlas_(prov.)' '•_city'\n",
      " '•_urban' '•_metro' 'time_zone' '•_summer_(dst)' 'forward_sortation_area'\n",
      " 'area_codes' 'highways__hwy_1_(tch)' 'gdp' 'gdp_per_capita' 'state'\n",
      " 'county' 'incorporated' 'area_code' 'fips_code' 'gnis_feature_ids'\n",
      " 'known_for' 'title' 'nationality' 'citizenship' 'software'\n",
      " 'other_creative_works' 'paradigm' 'designed_by' 'developer'\n",
      " 'first_appeared' 'typing_discipline' 'filename_extensions' 'platform'\n",
      " 'value' 'mint_marks' 'design' 'designer' 'implementation_language' 'os'\n",
      " 'paradigms' 'died' 'subregions' 'principal_cities' '•_nine-county'\n",
      " '•_csa' 'premier' 'preceded_by' 'succeeded_by' 'chairperson'\n",
      " 'speaker_of_the_house' 'house_majority_leader' 'senate_minority_leader'\n",
      " 'student_wing' 'youth_wing' \"women's_wing\" 'overseas_wing'\n",
      " 'membership_(2018)' 'ideology' 'colors' 'fields' 'repository'\n",
      " 'other_name' 'established' 'budget' 'president' 'academic_staff'\n",
      " 'administrative_staff' 'students' 'undergraduates' 'postgraduates'\n",
      " 'location' 'affiliations' 'former_names' 'motto' 'endowment' 'campus'\n",
      " 'newspaper' 'athletics' 'awards' 'institutions' 'thesis'\n",
      " 'doctoral_advisor' 'fate' 'predecessor' 'successor' 'number_of_employees'\n",
      " 'school_type' 'founder' 'head_of_school' 'teaching_staff' 'grades'\n",
      " 'gender' 'enrollment' 'student_to_teacher_ratio' 'athletics_conference'\n",
      " 'rival' 'accreditation' 'tuition' 'former_pupils' 'agency' 'counties'\n",
      " '•_type' 'gnis_feature_id' 'before_statehood' 'capital' 'largest_city'\n",
      " 'largest_metro' '•_governor' '•_lieutenant_governor' 'legislature'\n",
      " '•_upper_house' '•_lower_house' 'u.s._senators' 'u.s._house_delegation'\n",
      " 'area_rank' '•_total' '•_rank' '•_density_rank'\n",
      " '•_median_household_income' '•_official_language' '•_spoken_language'\n",
      " 'iso_3166_code' 'prime_minister' 'allegiance' 'branch/service'\n",
      " 'years_of_service' 'rank' 'battles/wars' 'minister' 'relations'\n",
      " 'other_politicalaffiliations' 'profession' 'postal_code_prefixes'\n",
      " '.mw-parser-output_.nobold{font-weight:normal}\\u2002\\u200b1⁄100'\n",
      " 'banknotes' 'inflation' 'pegged_with' '•_premier'\n",
      " 'federal_representation' 'senate_seats' '•_estimate_(2019_q3)'\n",
      " 'demonym(s)' '•_total_(2015)' '•_per_capita' 'postal_code_prefix'\n",
      " 'flower' 'tree' 'bird'\n",
      " '.mw-parser-output_.nobold{font-weight:normal}\\u20021/100'\n",
      " '.mw-parser-output_.nobold{font-weight:normal}\\u2002\\u200b1⁄1,000'\n",
      " '.mw-parser-output_.nobold{font-weight:normal}\\u2002\\u200b1⁄10'\n",
      " 'official_user(s)' 'unofficial_user(s)' 'coins' 'monetary_authority'\n",
      " '.mw-parser-output_.nobold{font-weight:normal}\\u2002100'\n",
      " '.mw-parser-output_.nobold{font-weight:normal}\\u2002\\u200b1⁄1000'\n",
      " 'formed' 'agency_executive' 'parent_agency' '•_d.c._council'\n",
      " '•_u.s._house' '•_federal_capital_city_and_federal_district' '•_demonym'\n",
      " 'area_code(s)' 'major_airports' 'commuter_rail' 'rapid_transit'\n",
      " 'official_languages' 'ethnic_groups__(2016)[2]' 'religion__(2011)[3]'\n",
      " 'government' '•_monarch' '•_governor_general' '•_prime_minister'\n",
      " '•_total_area' '•_q2_2019_estimate' '•_2016_census' '•_density'\n",
      " 'gini_(2015)' 'hdi_(2017)' 'currency' 'date_format' 'calling_code'\n",
      " 'internet_tld' 'chair' 'central_bank_of' 'reserve_requirements'\n",
      " 'bank_rate' 'interest_rate_target' 'interest_on_reserves' 'jurisdiction'\n",
      " 'child_agency' 'key_document' 'sovereign_state' 'ethnic_groups'\n",
      " '•_deputy_governor' '•_uk_government_minister' '•_2012_census'\n",
      " 'capitaland_largest_city' 'ethnic_groups__(2010[1])' '•_president'\n",
      " '•_2018_estimate' '•_2010_census' 'gini_(2017)'\n",
      " 'ethnic_groups__(2015[1])' '•_vice_president' '•_senate_president'\n",
      " 'ethnic_groups__(2006[2])' '•_speaker' '•_2011_census'\n",
      " 'special_municipalities' 'incorporated_into_the_netherlands'\n",
      " '•_lt._governors' '•_official' '•_recognised_regional' 'largest_town'\n",
      " 'official_language' 'recognized_regionallanguages'\n",
      " 'ethnic_groups__(2000)' 'gini_(2013)' 'hdi_(2015)' 'gini_(2016)'\n",
      " 'recognized_regional_languages' 'ethnic_groups__([3])'\n",
      " '•_recognized_by_spain' '•_census' 'gini_(2014)'\n",
      " '.mw-parser-output_.nobold{font-weight:normal}national_languages'\n",
      " 'religion__(2010[1])' '•_2015_census' 'before_annexation'\n",
      " 'ethnic_groups__(2010)' '•_2018_census' 'see_also' 'mass' 'edge'\n",
      " 'composition' 'manufacturer' 'generation' 'discontinued' 'units_sold'\n",
      " 'display' 'sound' 'input' 'controller_input' 'connectivity'\n",
      " 'product_family' '•_city_manager' 'sphere_of_influence' 'insect'\n",
      " 'vegetable' 'motto_in_english' 'provost' 'academic_term'\n",
      " 'sporting_affiliations' 'mascot' 'no._of_listings' 'market_cap' 'indices'\n",
      " 'architect' 'architectural_style' 'nrhp_reference_#' 'added_to_nrhp'\n",
      " 'designated_nhl' 'isin' 'home_town' 'csa' 'metro' 'mission' '•_body'\n",
      " '•_supervisors[6]' '•_assembly_members[7][8]' '•_state_senator'\n",
      " '•_united_states_representatives[9][10]' 'zip_codes[15]' 'relatives'\n",
      " 'foundation' 'operator' 'exchanges' 'constituents' 'weighting_method'\n",
      " 'related_indices' 'employer' 'notable_credit(s)' 'chartered'\n",
      " '•_council_members_.mw-parser-output_.nobold{font-weight:normal}by_district_number[3]'\n",
      " '•_assembly_member' '•_u.s._rep.' 'mayor' '•_macrometropolis'\n",
      " 'hdi_(2016)' 'ppp_2018' 'per_capita' 'nominal_2018' '•_common_council'\n",
      " 'national_language' 'ethnic_groups__(2015)[2]' 'religion__(2015)[2]'\n",
      " '•_parliament_speaker' '•_chief_justice' 'driving_side' 'seat'\n",
      " 'congressional_districts' 'town'\n",
      " 'capital.mw-parser-output_.nobold{font-weight:normal}(and_largest_city)'\n",
      " 'political_groups' 'voting_system' 'last_election' 'operating_income'\n",
      " 'net_income' 'total_assets' 'total_equity' 'venerated_in' 'canonized'\n",
      " 'major_shrine' 'patronage']\n"
     ]
    }
   ],
   "source": [
    "print(df.columns.values)"
   ]
  },
  {
   "cell_type": "code",
   "execution_count": 36,
   "metadata": {},
   "outputs": [
    {
     "data": {
      "text/plain": [
       "array(['Public company', 'organisation', 'software', 'businessperson',\n",
       "       'Thing', 'Subsidiary', 'person', 'currency',\n",
       "       'List of cities in British Columbia', 'City (California)',\n",
       "       'language', 'List of regions of California', 'politician',\n",
       "       'scientist', 'Public university', 'Research university',\n",
       "       'University-preparatory school', 'City', 'school',\n",
       "       'populated place', 'member of parliament',\n",
       "       'WikicatMetropolitanAreasOfCanada', 'settlement',\n",
       "       'Federal district', 'Institution108053576', 'Netherlands', 'place',\n",
       "       'agent', 'Currency113385913', 'Smartphone', 'Charter city',\n",
       "       'Private university', 'building', 'Privately held company',\n",
       "       'Consolidated city-county', 'radio station', 'work',\n",
       "       'Municipalities of Brazil', 'city',\n",
       "       'WikicatHongKongTelevisionActresses',\n",
       "       'Administrative divisions of New York', 'company'], dtype=object)"
      ]
     },
     "execution_count": 36,
     "metadata": {},
     "output_type": "execute_result"
    }
   ],
   "source": [
    "df['entity_type'].unique()"
   ]
  },
  {
   "cell_type": "code",
   "execution_count": 39,
   "metadata": {},
   "outputs": [
    {
     "data": {
      "text/plain": [
       "array(['Facebook', 'Summify', 'Periscope (app)', 'Vine (service)',\n",
       "       'Instagram', 'Snapchat', 'Twitter', 'Mike Schroepfer',\n",
       "       'Libra (cryptocurrency)', 'Oculus VR', 'WhatsApp',\n",
       "       'Sheryl Sandberg', 'United States dollar', 'Vancouver',\n",
       "       'Menlo Park, California', 'Evan Spiegel', 'Chris Hughes',\n",
       "       'Dustin Moskovitz', 'Proprietary software', 'JavaScript',\n",
       "       'Scala (programming language)', 'Stella (United States coin)',\n",
       "       'Ruby (programming language)', 'Java (programming language)',\n",
       "       'Rust (programming language)', 'Dave Goldberg',\n",
       "       'San Francisco Bay Area', 'Andrew Wilkinson', 'Sam Sullivan',\n",
       "       'Democratic Party (United States)', 'Martin Odersky',\n",
       "       'Brendan Eich', 'LLVM', 'École Polytechnique Fédérale de Lausanne',\n",
       "       'Sean Eldridge', 'Harvard University', 'James Gosling',\n",
       "       'Sun Microsystems', 'C (programming language)', 'Phillips Academy',\n",
       "       'Miranda Kerr', 'Hickory, North Carolina',\n",
       "       'Crossroads School (Santa Monica, California)', 'Shane Simpson',\n",
       "       'Melanie Mark', 'Michael Lee (Canadian politician)',\n",
       "       'George Heyman', 'California', 'Mable Elmore', 'David Eby',\n",
       "       'Adrian Dix', 'Spencer Chandra Herbert', 'George Chow',\n",
       "       'Harjit Sajjan', 'Jenny Kwan', 'Hedy Fry', 'Jody Wilson-Raybould',\n",
       "       'Jean Swanson', 'Kennedy Stewart (Canadian politician)',\n",
       "       'Lower Mainland', 'Venezuelan bolívar',\n",
       "       'United Arab Emirates dirham', 'Saudi riyal', 'Qatari riyal',\n",
       "       'Panamanian balboa', 'British Columbia', 'Omani rial',\n",
       "       'Netherlands Antillean guilder', 'Lebanese pound', 'Kuwaiti dinar',\n",
       "       'Jordanian dinar', 'Iraqi dinar', 'Hong Kong dollar',\n",
       "       'Eritrean nakfa', 'East Timor centavo coins', 'Djiboutian franc',\n",
       "       'Cuban convertible peso', 'Cayman Islands dollar',\n",
       "       'Bermudian dollar', 'Belize dollar', 'Barbadian dollar',\n",
       "       'Bahraini dinar', 'Bahamian dollar', 'Aruban florin',\n",
       "       'Bureau of Engraving and Printing', 'Washington, D.C.', 'Canada',\n",
       "       'Federal Reserve', 'Turks and Caicos Islands', 'Panama', 'Palau',\n",
       "       'Marshall Islands', 'Caribbean Netherlands',\n",
       "       'Federated States of Micronesia', 'El Salvador', 'Ecuador',\n",
       "       'East Timor', 'British Virgin Islands', 'Dollar sign',\n",
       "       'Dime (United States coin)', 'Quarter (United States coin)',\n",
       "       'Union (United States coin)', 'Oculus Rift CV1', 'Samsung Gear VR',\n",
       "       'Palmer Luckey', 'Omid Kordestani', 'Irvine, California',\n",
       "       'Stanford University', 'Evan Williams (Internet entrepreneur)',\n",
       "       'Biz Stone', 'Jack Dorsey', 'New York Stock Exchange', 'Snap Inc.',\n",
       "       'Bobby Murphy (businessman)', 'San Francisco', 'Eduardo Saverin',\n",
       "       'Mark Zuckerberg', 'Cambridge, Massachusetts', 'S&P 500 Index',\n",
       "       'Dow Jones Industrial Average', 'Betty Liu',\n",
       "       'Berkeley, California', 'Santa Monica, California', 'Ahsha Safaí',\n",
       "       'Shamann Walton', 'Hillary Ronen', 'São Paulo', 'Rafael Mandelman',\n",
       "       'White Plains, New York', 'Norman Yee', 'Matt Haney', 'Singapore',\n",
       "       'Middlesex County, Massachusetts', 'S&P 1500', 'Priscilla Chan',\n",
       "       'Dobbs Ferry, New York', 'Gordon Mar', 'Aaron Peskin',\n",
       "       'Catherine Stefani', 'Sandra Lee Fewer', 'Massachusetts',\n",
       "       'San Francisco Board of Supervisors', 'Jeffrey Sprecher',\n",
       "       'Intercontinental Exchange', 'Francis of Assisi', 'S&P 100',\n",
       "       'Nasdaq', 'Nasdaq, Inc.'], dtype=object)"
      ]
     },
     "execution_count": 39,
     "metadata": {},
     "output_type": "execute_result"
    }
   ],
   "source": [
    "df['name'].unique()"
   ]
  },
  {
   "cell_type": "code",
   "execution_count": null,
   "metadata": {},
   "outputs": [],
   "source": []
  }
 ],
 "metadata": {
  "kernelspec": {
   "display_name": "Python 3",
   "language": "python",
   "name": "python3"
  },
  "language_info": {
   "codemirror_mode": {
    "name": "ipython",
    "version": 3
   },
   "file_extension": ".py",
   "mimetype": "text/x-python",
   "name": "python",
   "nbconvert_exporter": "python",
   "pygments_lexer": "ipython3",
   "version": "3.7.4"
  }
 },
 "nbformat": 4,
 "nbformat_minor": 2
}
